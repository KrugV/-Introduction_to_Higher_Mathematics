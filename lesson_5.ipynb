{
 "cells": [
  {
   "cell_type": "markdown",
   "id": "1a59a0e4",
   "metadata": {},
   "source": [
    "Практические задания к уроку 5"
   ]
  },
  {
   "cell_type": "markdown",
   "id": "31170dfd",
   "metadata": {},
   "source": [
    "Напишите код, моделирующий выпадение поля в рулетке (с учетом поля ZERO)"
   ]
  },
  {
   "cell_type": "code",
   "execution_count": 3,
   "id": "3de126e8",
   "metadata": {},
   "outputs": [],
   "source": [
    "import numpy as np\n",
    "import matplotlib.pyplot as plt\n",
    "import matplotlib.mlab as mlab"
   ]
  },
  {
   "cell_type": "markdown",
   "id": "7aa5da0c",
   "metadata": {},
   "source": [
    "код долго отрабатывает, поэтому без итога"
   ]
  },
  {
   "cell_type": "code",
   "execution_count": null,
   "id": "58826406",
   "metadata": {},
   "outputs": [],
   "source": [
    "for i in range (0,3):\n",
    "    a = input()\n",
    "    x = int(np.random.uniform(0,36))\n",
    "    print (x)"
   ]
  },
  {
   "cell_type": "code",
   "execution_count": null,
   "id": "42759229",
   "metadata": {},
   "outputs": [],
   "source": []
  },
  {
   "cell_type": "markdown",
   "id": "deb07949",
   "metadata": {},
   "source": [
    "Сгенерируйте десять выборок случайных чисел х0, …, х9.\n",
    "и постройте гистограмму распределения случайной суммы х0+х1+ …+ х9."
   ]
  },
  {
   "cell_type": "code",
   "execution_count": 4,
   "id": "92a7e031",
   "metadata": {},
   "outputs": [
    {
     "name": "stdout",
     "output_type": "stream",
     "text": [
      "[array([0.9953869 , 0.70591354, 0.83258802, 0.94527913, 0.97940306,\n",
      "       0.89985282, 0.59834498, 0.7990405 , 0.61441538, 0.02780562,\n",
      "       0.63184808, 0.41691777, 0.43276852, 0.78864859, 0.51884579,\n",
      "       0.13296368, 0.19450684, 0.18143479, 0.28971696, 0.37645124,\n",
      "       0.20655749, 0.23775108, 0.67332985, 0.44763466, 0.38433029,\n",
      "       0.11410187, 0.68570766, 0.83095394, 0.27474501, 0.98103502,\n",
      "       0.43635155, 0.32268647]), array([0.51930473, 0.88115169, 0.00171962, 0.60498583, 0.61881563,\n",
      "       0.97136966, 0.19970532, 0.25786006, 0.3896802 , 0.77511938,\n",
      "       0.09969008, 0.84526831, 0.19296516, 0.17693344, 0.82923403,\n",
      "       0.23455171, 0.57285445, 0.69031041, 0.96340504, 0.99341494,\n",
      "       0.54971252, 0.67812429, 0.39751726, 0.87882676, 0.30614493,\n",
      "       0.30375357, 0.94531738, 0.75732711, 0.73602763, 0.18407396,\n",
      "       0.78541747, 0.02008787]), array([0.23504695, 0.06150353, 0.86422894, 0.07623383, 0.51001338,\n",
      "       0.14537638, 0.67852836, 0.42870265, 0.46657313, 0.13376842,\n",
      "       0.09828476, 0.01494216, 0.56667911, 0.77184814, 0.20742696,\n",
      "       0.88615944, 0.28762547, 0.39520293, 0.35247239, 0.55193011,\n",
      "       0.12572255, 0.2792376 , 0.92825697, 0.66796169, 0.15679343,\n",
      "       0.73655116, 0.1110283 , 0.8958172 , 0.46041587, 0.08661819,\n",
      "       0.79085991, 0.36097113]), array([0.81074273, 0.1288692 , 0.46651644, 0.10026063, 0.81896449,\n",
      "       0.43061259, 0.08993342, 0.87807985, 0.68744658, 0.87024951,\n",
      "       0.66613766, 0.39444439, 0.57931023, 0.89676442, 0.14979575,\n",
      "       0.42182965, 0.83345841, 0.2877222 , 0.62272911, 0.51345955,\n",
      "       0.49655719, 0.69138668, 0.81592601, 0.18631702, 0.54205737,\n",
      "       0.11900364, 0.69849571, 0.51051946, 0.64520581, 0.99085733,\n",
      "       0.04484084, 0.47501492]), array([0.8688279 , 0.02130692, 0.72611243, 0.65367038, 0.23622947,\n",
      "       0.02446848, 0.9539529 , 0.86759366, 0.23508018, 0.92822016,\n",
      "       0.57378426, 0.32365983, 0.83075678, 0.19904925, 0.59971789,\n",
      "       0.68827577, 0.68155219, 0.88543505, 0.65529067, 0.96450417,\n",
      "       0.38766408, 0.73938264, 0.27334908, 0.25564209, 0.91055954,\n",
      "       0.49285219, 0.54485241, 0.66637657, 0.96297399, 0.46387512,\n",
      "       0.72046968, 0.58418924]), array([0.259085  , 0.4666878 , 0.06101617, 0.96841901, 0.55806567,\n",
      "       0.87354924, 0.13088056, 0.67041726, 0.6797064 , 0.87955916,\n",
      "       0.89133797, 0.7060219 , 0.17725639, 0.00249992, 0.64610865,\n",
      "       0.36180784, 0.46906355, 0.39012699, 0.46660919, 0.27544345,\n",
      "       0.53523   , 0.60083304, 0.27785713, 0.56879835, 0.86410297,\n",
      "       0.96727151, 0.72405886, 0.04925834, 0.04134542, 0.99389263,\n",
      "       0.69331202, 0.31078031]), array([0.39838209, 0.93839755, 0.40111892, 0.22630328, 0.77476764,\n",
      "       0.40325772, 0.04654713, 0.97009113, 0.87482791, 0.79860533,\n",
      "       0.4295984 , 0.97127358, 0.70704225, 0.60908809, 0.79286361,\n",
      "       0.31516592, 0.7762804 , 0.22139021, 0.64635574, 0.19252443,\n",
      "       0.57928417, 0.66557563, 0.53185072, 0.17290085, 0.37047674,\n",
      "       0.14275113, 0.99158173, 0.9246174 , 0.50095216, 0.38369568,\n",
      "       0.17117528, 0.9872849 ]), array([0.68803766, 0.47303283, 0.9759211 , 0.28764812, 0.91585635,\n",
      "       0.30712636, 0.21230247, 0.09939578, 0.93983033, 0.83312758,\n",
      "       0.61534755, 0.25629858, 0.97272927, 0.17743961, 0.96602304,\n",
      "       0.63599498, 0.85433696, 0.06111598, 0.72473949, 0.02004112,\n",
      "       0.66607057, 0.31101804, 0.65851052, 0.7473179 , 0.62281727,\n",
      "       0.80474341, 0.07648642, 0.0929839 , 0.03208388, 0.20093433,\n",
      "       0.63454961, 0.28001529]), array([0.58805059, 0.49583387, 0.45915031, 0.96090496, 0.13083127,\n",
      "       0.48806319, 0.6985168 , 0.05293578, 0.28293543, 0.68754762,\n",
      "       0.33092738, 0.42508878, 0.19759734, 0.5244277 , 0.71249766,\n",
      "       0.60980947, 0.68571822, 0.19382164, 0.73905765, 0.11811543,\n",
      "       0.87028208, 0.14624993, 0.162983  , 0.88758396, 0.3858838 ,\n",
      "       0.46165918, 0.43608276, 0.82297781, 0.61933066, 0.35578935,\n",
      "       0.68915454, 0.79780346]), array([0.23685629, 0.09186175, 0.60899542, 0.27530482, 0.24858469,\n",
      "       0.84261793, 0.85430745, 0.32658873, 0.36918098, 0.66950715,\n",
      "       0.09433077, 0.55967057, 0.97632473, 0.00408639, 0.5939259 ,\n",
      "       0.19963422, 0.35767132, 0.98568296, 0.283332  , 0.06055923,\n",
      "       0.64796824, 0.81609385, 0.97226779, 0.17633002, 0.57046909,\n",
      "       0.60355774, 0.6419007 , 0.43722803, 0.60227358, 0.61258277,\n",
      "       0.69781406, 0.43299779])]\n"
     ]
    }
   ],
   "source": [
    "x = []      #список выборок\n",
    "sum = []    #список сумм элементов каждой выборки\n",
    "for i in range (0,10):\n",
    "    sum.append(0)\n",
    "    x.append(np.random.rand(32))  #np.random.rand(0,9,100) для целых\n",
    "    # x.append(np.random.randint(0, 9, 10))\n",
    "    # sum_i = x[i].sum()\n",
    "    # sum[i] = sum[i] + sum_i\n",
    "print(x)"
   ]
  },
  {
   "cell_type": "code",
   "execution_count": null,
   "id": "dde6a172",
   "metadata": {},
   "outputs": [],
   "source": []
  },
  {
   "cell_type": "markdown",
   "id": "3a8efc6a",
   "metadata": {},
   "source": [
    "Из урока по комбинаторике повторите расчеты, сгенерировав возможные варианты\n",
    "перестановок для других значений n и k"
   ]
  },
  {
   "cell_type": "code",
   "execution_count": 5,
   "id": "dc9d2334",
   "metadata": {},
   "outputs": [],
   "source": [
    "import itertools"
   ]
  },
  {
   "cell_type": "code",
   "execution_count": 6,
   "id": "7a478a69",
   "metadata": {},
   "outputs": [
    {
     "name": "stdout",
     "output_type": "stream",
     "text": [
      "0000\n",
      "0001\n",
      "0002\n",
      "0003\n",
      "0010\n",
      "0011\n",
      "0012\n",
      "0013\n",
      "0020\n",
      "0021\n",
      "0022\n",
      "0023\n",
      "0030\n",
      "0031\n",
      "0032\n",
      "0033\n",
      "0100\n",
      "0101\n",
      "0102\n",
      "0103\n",
      "0110\n",
      "0111\n",
      "0112\n",
      "0113\n",
      "0120\n",
      "0121\n",
      "0122\n",
      "0123\n",
      "0130\n",
      "0131\n",
      "0132\n",
      "0133\n",
      "0200\n",
      "0201\n",
      "0202\n",
      "0203\n",
      "0210\n",
      "0211\n",
      "0212\n",
      "0213\n",
      "0220\n",
      "0221\n",
      "0222\n",
      "0223\n",
      "0230\n",
      "0231\n",
      "0232\n",
      "0233\n",
      "0300\n",
      "0301\n",
      "0302\n",
      "0303\n",
      "0310\n",
      "0311\n",
      "0312\n",
      "0313\n",
      "0320\n",
      "0321\n",
      "0322\n",
      "0323\n",
      "0330\n",
      "0331\n",
      "0332\n",
      "0333\n",
      "1000\n",
      "1001\n",
      "1002\n",
      "1003\n",
      "1010\n",
      "1011\n",
      "1012\n",
      "1013\n",
      "1020\n",
      "1021\n",
      "1022\n",
      "1023\n",
      "1030\n",
      "1031\n",
      "1032\n",
      "1033\n",
      "1100\n",
      "1101\n",
      "1102\n",
      "1103\n",
      "1110\n",
      "1111\n",
      "1112\n",
      "1113\n",
      "1120\n",
      "1121\n",
      "1122\n",
      "1123\n",
      "1130\n",
      "1131\n",
      "1132\n",
      "1133\n",
      "1200\n",
      "1201\n",
      "1202\n",
      "1203\n",
      "1210\n",
      "1211\n",
      "1212\n",
      "1213\n",
      "1220\n",
      "1221\n",
      "1222\n",
      "1223\n",
      "1230\n",
      "1231\n",
      "1232\n",
      "1233\n",
      "1300\n",
      "1301\n",
      "1302\n",
      "1303\n",
      "1310\n",
      "1311\n",
      "1312\n",
      "1313\n",
      "1320\n",
      "1321\n",
      "1322\n",
      "1323\n",
      "1330\n",
      "1331\n",
      "1332\n",
      "1333\n",
      "2000\n",
      "2001\n",
      "2002\n",
      "2003\n",
      "2010\n",
      "2011\n",
      "2012\n",
      "2013\n",
      "2020\n",
      "2021\n",
      "2022\n",
      "2023\n",
      "2030\n",
      "2031\n",
      "2032\n",
      "2033\n",
      "2100\n",
      "2101\n",
      "2102\n",
      "2103\n",
      "2110\n",
      "2111\n",
      "2112\n",
      "2113\n",
      "2120\n",
      "2121\n",
      "2122\n",
      "2123\n",
      "2130\n",
      "2131\n",
      "2132\n",
      "2133\n",
      "2200\n",
      "2201\n",
      "2202\n",
      "2203\n",
      "2210\n",
      "2211\n",
      "2212\n",
      "2213\n",
      "2220\n",
      "2221\n",
      "2222\n",
      "2223\n",
      "2230\n",
      "2231\n",
      "2232\n",
      "2233\n",
      "2300\n",
      "2301\n",
      "2302\n",
      "2303\n",
      "2310\n",
      "2311\n",
      "2312\n",
      "2313\n",
      "2320\n",
      "2321\n",
      "2322\n",
      "2323\n",
      "2330\n",
      "2331\n",
      "2332\n",
      "2333\n",
      "3000\n",
      "3001\n",
      "3002\n",
      "3003\n",
      "3010\n",
      "3011\n",
      "3012\n",
      "3013\n",
      "3020\n",
      "3021\n",
      "3022\n",
      "3023\n",
      "3030\n",
      "3031\n",
      "3032\n",
      "3033\n",
      "3100\n",
      "3101\n",
      "3102\n",
      "3103\n",
      "3110\n",
      "3111\n",
      "3112\n",
      "3113\n",
      "3120\n",
      "3121\n",
      "3122\n",
      "3123\n",
      "3130\n",
      "3131\n",
      "3132\n",
      "3133\n",
      "3200\n",
      "3201\n",
      "3202\n",
      "3203\n",
      "3210\n",
      "3211\n",
      "3212\n",
      "3213\n",
      "3220\n",
      "3221\n",
      "3222\n",
      "3223\n",
      "3230\n",
      "3231\n",
      "3232\n",
      "3233\n",
      "3300\n",
      "3301\n",
      "3302\n",
      "3303\n",
      "3310\n",
      "3311\n",
      "3312\n",
      "3313\n",
      "3320\n",
      "3321\n",
      "3322\n",
      "3323\n",
      "3330\n",
      "3331\n",
      "3332\n",
      "3333\n",
      "total 256\n",
      "\n"
     ]
    }
   ],
   "source": [
    "#1\n",
    "count = 0\n",
    "for p in itertools.product(\"0123\",repeat=4):\n",
    "    print(''.join(p))\n",
    "    count = count + 1\n",
    "print(\"total\", count)\n",
    "print()"
   ]
  },
  {
   "cell_type": "code",
   "execution_count": 7,
   "id": "fae994fb",
   "metadata": {},
   "outputs": [
    {
     "name": "stdout",
     "output_type": "stream",
     "text": [
      "0123\n",
      "0132\n",
      "0213\n",
      "0231\n",
      "0312\n",
      "0321\n",
      "1023\n",
      "1032\n",
      "1203\n",
      "1230\n",
      "1302\n",
      "1320\n",
      "2013\n",
      "2031\n",
      "2103\n",
      "2130\n",
      "2301\n",
      "2310\n",
      "3012\n",
      "3021\n",
      "3102\n",
      "3120\n",
      "3201\n",
      "3210\n",
      "total permutations: 24\n",
      "\n"
     ]
    }
   ],
   "source": [
    "#2 Перестановки\n",
    "count = 0\n",
    "for p in itertools.permutations(\"0123\",4):\n",
    "    print(''.join(str(x) for x in p))\n",
    "    count = count + 1\n",
    "print(\"total permutations:\", count)\n",
    "print()"
   ]
  },
  {
   "cell_type": "code",
   "execution_count": 8,
   "id": "2f1851ea",
   "metadata": {},
   "outputs": [
    {
     "name": "stdout",
     "output_type": "stream",
     "text": [
      "012\n",
      "013\n",
      "023\n",
      "123\n",
      "total combinations: 4\n"
     ]
    }
   ],
   "source": [
    "#3 Комбинации\n",
    "count = 0\n",
    "for p in itertools.combinations(\"0123\",3):\n",
    "    print(''.join(str(x) for x in p))\n",
    "    count = count + 1\n",
    "print(\"total combinations:\", count)"
   ]
  },
  {
   "cell_type": "code",
   "execution_count": null,
   "id": "7b2d7128",
   "metadata": {},
   "outputs": [],
   "source": []
  },
  {
   "cell_type": "markdown",
   "id": "85bbb074",
   "metadata": {},
   "source": [
    "Дополните код расчетом коэффициента корреляции ​ x ​ и ​ y ​ по формуле"
   ]
  },
  {
   "cell_type": "code",
   "execution_count": 9,
   "id": "cf9bb330",
   "metadata": {},
   "outputs": [
    {
     "data": {
      "image/png": "[encoded data removed]",
      "text/plain": [
       "<Figure size 432x288 with 1 Axes>"
      ]
     },
     "metadata": {
      "needs_background": "light"
     },
     "output_type": "display_data"
    }
   ],
   "source": [
    "n = 100\n",
    "r = 0.77\n",
    "x = np.random.rand(n)\n",
    "y = r*x + (1 - r)*np.random.rand(n)\n",
    "plt.plot(x,y,'o')\n",
    "plt.xlabel('x')\n",
    "plt.ylabel('y')\n",
    "plt.grid(True)"
   ]
  },
  {
   "cell_type": "code",
   "execution_count": 10,
   "id": "fad58ec3",
   "metadata": {},
   "outputs": [],
   "source": [
    "a = (np.sum(x)*np.sum(y) - n*np.sum(x*y))/(np.sum(x)*np.sum(x) - n*np.sum(x*x))\n",
    "b = (np.sum(y) - a*np.sum(x))/n"
   ]
  },
  {
   "cell_type": "code",
   "execution_count": 11,
   "id": "445cf012",
   "metadata": {},
   "outputs": [
    {
     "name": "stdout",
     "output_type": "stream",
     "text": [
      "a, b через МНК для линейной регрессии: 0.7634961372092021 0.12212217293440858\n",
      "a, b через встроенную библиотеку: 0.7634961372092043 0.12212217293440725\n",
      "Коэф корреляции через встроенную библиотеку: [[1.         0.95452711]\n",
      " [0.95452711 1.        ]]\n"
     ]
    },
    {
     "name": "stderr",
     "output_type": "stream",
     "text": [
      "<ipython-input-11-2c7921a2b522>:2: FutureWarning: `rcond` parameter will change to the default of machine precision times ``max(M, N)`` where M and N are the input matrix dimensions.\n",
      "To use the future default and silence this warning we advise to pass `rcond=None`, to keep using the old, explicitly pass `rcond=-1`.\n",
      "  a1, b1 = np.linalg.lstsq(A, y)[0]\n"
     ]
    }
   ],
   "source": [
    "A = np.vstack([x, np.ones(len(x))]).T\n",
    "a1, b1 = np.linalg.lstsq(A, y)[0]\n",
    "print(\"a, b через МНК для линейной регрессии:\",a,b)\n",
    "print(\"a, b через встроенную библиотеку:\",a1, b1)\n",
    "c = np.corrcoef(x, y)\n",
    "print(\"Коэф корреляции через встроенную библиотеку:\", c)"
   ]
  },
  {
   "cell_type": "markdown",
   "id": "954561b2",
   "metadata": {},
   "source": [
    "найдем средние значения"
   ]
  },
  {
   "cell_type": "code",
   "execution_count": 12,
   "id": "5d07def1",
   "metadata": {},
   "outputs": [
    {
     "name": "stdout",
     "output_type": "stream",
     "text": [
      "x, y средние: 0.5001652368085353 0.503996399204051\n",
      "Коэф корреляции по формуле: 0.9545271098385574\n"
     ]
    },
    {
     "data": {
      "image/png": "[encoded data removed]",
      "text/plain": [
       "<Figure size 432x288 with 1 Axes>"
      ]
     },
     "metadata": {
      "needs_background": "light"
     },
     "output_type": "display_data"
    }
   ],
   "source": [
    "x_avg = np.average(x)\n",
    "y_avg = np.average(y)\n",
    "print(\"x, y средние:\",x_avg, y_avg)\n",
    "R = np.sum((x - x_avg)*(y - y_avg)) / (np.sum((x-x_avg)**2)*(np.sum((y-y_avg)**2)))**0.5\n",
    "print(\"Коэф корреляции по формуле:\", R)\n",
    "plt.plot([0, 1], [b, a + b])\n",
    "plt.show()"
   ]
  }
 ],
 "metadata": {
  "kernelspec": {
   "display_name": "Python 3",
   "language": "python",
   "name": "python3"
  },
  "language_info": {
   "codemirror_mode": {
    "name": "ipython",
    "version": 3
   },
   "file_extension": ".py",
   "mimetype": "text/x-python",
   "name": "python",
   "nbconvert_exporter": "python",
   "pygments_lexer": "ipython3",
   "version": "3.8.8"
  }
 },
 "nbformat": 4,
 "nbformat_minor": 5
}
