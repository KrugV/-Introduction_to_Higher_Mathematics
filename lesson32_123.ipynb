{
 "cells": [
  {
   "cell_type": "code",
   "execution_count": 1,
   "id": "cc976fe0",
   "metadata": {},
   "outputs": [],
   "source": [
    "import math"
   ]
  },
  {
   "cell_type": "markdown",
   "id": "c4f295d0",
   "metadata": {},
   "source": [
    "1. Даны два вектора в трехмерном пространстве: (10,10,10) и (0,0,-10)\n",
    "Найдите их сумму. (на листочке)\n",
    "Напишите код на Python, реализующий расчет длины вектора, заданного его координатами"
   ]
  },
  {
   "cell_type": "markdown",
   "id": "c5bc3aef",
   "metadata": {},
   "source": [
    "РЕШЕНИЕ\n",
    "Сумма векторов -- это результирующий вектор, который вычисляется как:\n",
    "[0-10,0-10,-10-10] -> [-10,-10,-20]"
   ]
  },
  {
   "cell_type": "code",
   "execution_count": 2,
   "id": "525f3a3c",
   "metadata": {},
   "outputs": [],
   "source": [
    "vec1 = [10,10,10]\n",
    "vec2 = [0,0,-10]"
   ]
  },
  {
   "cell_type": "code",
   "execution_count": 3,
   "id": "1b5fc345",
   "metadata": {},
   "outputs": [],
   "source": [
    "def VectorGet(v1, v2):\n",
    "    result = []\n",
    "    for i in range(v1.__len__()):\n",
    "        result.append(v2[i]-v1[i]);\n",
    "    return result;"
   ]
  },
  {
   "cell_type": "code",
   "execution_count": 4,
   "id": "e44b125c",
   "metadata": {},
   "outputs": [],
   "source": [
    "def LengthGet(v):\n",
    "    sum = 0\n",
    "    for i in v:\n",
    "        sum = sum + i*i;\n",
    "    return (math.sqrt(sum))\n",
    "vec3 = VectorGet(vec1,vec2);"
   ]
  },
  {
   "cell_type": "code",
   "execution_count": 5,
   "id": "f4ad7100",
   "metadata": {},
   "outputs": [
    {
     "name": "stdout",
     "output_type": "stream",
     "text": [
      "Искомый вектор: [-10, -10, -20]\n"
     ]
    }
   ],
   "source": [
    "print(\"Искомый вектор:\",vec3)"
   ]
  },
  {
   "cell_type": "code",
   "execution_count": 6,
   "id": "30633d09",
   "metadata": {},
   "outputs": [
    {
     "name": "stdout",
     "output_type": "stream",
     "text": [
      "Длина искомого вектора = 24.49489742783178\n"
     ]
    }
   ],
   "source": [
    "len3 = LengthGet(vec3);\n",
    "print (\"Длина искомого вектора =\",len3);"
   ]
  },
  {
   "cell_type": "markdown",
   "id": "6b8fc208",
   "metadata": {},
   "source": [
    "2. Почему прямые не кажутся перпендикулярными? (см.ролик)"
   ]
  },
  {
   "cell_type": "code",
   "execution_count": 7,
   "id": "46c497e1",
   "metadata": {},
   "outputs": [],
   "source": [
    "import numpy as np\n",
    "import matplotlib.pyplot as plt"
   ]
  },
  {
   "cell_type": "code",
   "execution_count": 8,
   "id": "3aa8f066",
   "metadata": {},
   "outputs": [
    {
     "data": {
      "text/plain": [
       "Text(0, 0.5, 'y')"
      ]
     },
     "execution_count": 8,
     "metadata": {},
     "output_type": "execute_result"
    },
    {
     "data": {
      "image/png": "[encoded data removed]",
      "text/plain": [
       "<Figure size 432x288 with 1 Axes>"
      ]
     },
     "metadata": {
      "needs_background": "light"
     },
     "output_type": "display_data"
    }
   ],
   "source": [
    "x = np.linspace(-5,5,21)\n",
    "y = 3*x+1\n",
    "y2 = (-1/3)*x+1\n",
    "plt.plot(x,y)\n",
    "plt.plot(x,y2)\n",
    "plt.xlabel(\"x\")\n",
    "plt.ylabel(\"y\")"
   ]
  },
  {
   "cell_type": "code",
   "execution_count": 9,
   "id": "d1628417",
   "metadata": {},
   "outputs": [
    {
     "data": {
      "image/png": "[encoded data removed]",
      "text/plain": [
       "<Figure size 432x288 with 1 Axes>"
      ]
     },
     "metadata": {
      "needs_background": "light"
     },
     "output_type": "display_data"
    }
   ],
   "source": [
    "plt.gca().set_aspect('equal')\n",
    "plt.show()"
   ]
  },
  {
   "cell_type": "markdown",
   "id": "79cdc941",
   "metadata": {},
   "source": [
    "ОТВЕТ: прямые не кажутся перпендикулярными потому что шкалы осей отличаются пропорциональностью, т.е. отрезок на оси абсцисс в 2 единицы соответствует отрезку на ординат в 5 единиц.\n",
    "для того чтобы исправить этот момент необходиио перед вызовом .show() применить следующий код^\n",
    "plt.gca().set_aspect('equal')"
   ]
  },
  {
   "cell_type": "markdown",
   "id": "6045350e",
   "metadata": {},
   "source": [
    "Напишите код на Python, реализующий построение графиков:\n",
    "окружности,\n",
    "эллипса,\n",
    "гиперболы."
   ]
  },
  {
   "cell_type": "code",
   "execution_count": 10,
   "id": "f780e78f",
   "metadata": {},
   "outputs": [],
   "source": [
    "def plot_ellipsoid(a,b):\n",
    "    # plot эллипс\n",
    "    # x**2/a**2 + y**2/b**2 = 1\n",
    "    x=[]\n",
    "    y=[]\n",
    "    # a=3\n",
    "    # b=1\n",
    "    x = np.linspace(-a, a, 512, endpoint=True)\n",
    "    y = np.sqrt((1-x**2/a**2)*b**2)\n",
    "    plt.plot(x, y, marker = \"o\")\n",
    "    plt.plot(x, -y, marker = \"o\")\n",
    "    plt.gca().set_aspect('equal')\n",
    "    plt.show()"
   ]
  },
  {
   "cell_type": "code",
   "execution_count": 16,
   "id": "6bb179b8",
   "metadata": {},
   "outputs": [
    {
     "data": {
      "image/png": "[encoded data removed]",
      "text/plain": [
       "<Figure size 432x288 with 1 Axes>"
      ]
     },
     "metadata": {
      "needs_background": "light"
     },
     "output_type": "display_data"
    }
   ],
   "source": [
    "plot_ellipsoid(3,2)"
   ]
  },
  {
   "cell_type": "code",
   "execution_count": 17,
   "id": "817eec51",
   "metadata": {},
   "outputs": [],
   "source": [
    "def plot_circle(R):\n",
    "    # plot окружность\n",
    "    # x**2 + y**2 = R**2\n",
    "    x=[]\n",
    "    y=[]\n",
    "    # R=3\n",
    "    x = np.linspace(-R, R, 512, endpoint=True)\n",
    "    y = np.sqrt(-(x*x) + R*R)\n",
    "    plt.plot(x, y, marker = \"o\")\n",
    "    plt.plot(x, -y, marker = \"o\")\n",
    "    plt.gca().set_aspect('equal')\n",
    "    plt.show()"
   ]
  },
  {
   "cell_type": "code",
   "execution_count": 18,
   "id": "8cc3af49",
   "metadata": {},
   "outputs": [
    {
     "data": {
      "image/png": "[encoded data removed]",
      "text/plain": [
       "<Figure size 432x288 with 1 Axes>"
      ]
     },
     "metadata": {
      "needs_background": "light"
     },
     "output_type": "display_data"
    }
   ],
   "source": [
    "# построим Окружность\n",
    "plot_circle(1)"
   ]
  },
  {
   "cell_type": "code",
   "execution_count": 12,
   "id": "feafa671",
   "metadata": {},
   "outputs": [],
   "source": [
    "def plot_hyperboloid(a,b):\n",
    "    # plot гипербола\n",
    "    # x**2/a**2 - y**2/b**2 = 1\n",
    "    x=[]\n",
    "    y=[]\n",
    "    # a=3\n",
    "    # b=1\n",
    "    x = np.linspace(-a*3, a*3, 512, endpoint=True)\n",
    "    y = np.sqrt((x**2/a**2 - 1)*b**2)\n",
    "    plt.plot(x, y, marker = \"o\")\n",
    "    plt.plot(x, -y, marker = \"o\")\n",
    "    # plt.gca().set_aspect('equal')\n",
    "    plt.show()"
   ]
  },
  {
   "cell_type": "code",
   "execution_count": 19,
   "id": "b73d5131",
   "metadata": {},
   "outputs": [
    {
     "name": "stderr",
     "output_type": "stream",
     "text": [
      "<ipython-input-12-96554f02d78d>:9: RuntimeWarning: invalid value encountered in sqrt\n",
      "  y = np.sqrt((x**2/a**2 - 1)*b**2)\n"
     ]
    },
    {
     "data": {
      "image/png": "[encoded data removed]",
      "text/plain": [
       "<Figure size 432x288 with 1 Axes>"
      ]
     },
     "metadata": {
      "needs_background": "light"
     },
     "output_type": "display_data"
    }
   ],
   "source": [
    "# построим Гиперболу\n",
    "plot_hyperboloid(2,2)"
   ]
  }
 ],
 "metadata": {
  "kernelspec": {
   "display_name": "Python 3",
   "language": "python",
   "name": "python3"
  },
  "language_info": {
   "codemirror_mode": {
    "name": "ipython",
    "version": 3
   },
   "file_extension": ".py",
   "mimetype": "text/x-python",
   "name": "python",
   "nbconvert_exporter": "python",
   "pygments_lexer": "ipython3",
   "version": "3.8.8"
  }
 },
 "nbformat": 4,
 "nbformat_minor": 5
}
